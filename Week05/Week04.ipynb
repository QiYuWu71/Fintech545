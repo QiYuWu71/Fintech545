{
 "cells": [
  {
   "cell_type": "code",
   "execution_count": 2,
   "metadata": {
    "collapsed": true,
    "pycharm": {
     "name": "#%%\n"
    }
   },
   "outputs": [],
   "source": [
    "from pandas.core.common import SettingWithCopyWarning\n",
    "import pandas as pd\n",
    "import numpy as np\n",
    "from scipy.optimize import minimize\n",
    "from scipy.stats import norm,t,multivariate_t\n",
    "from sklearn.linear_model import LinearRegression\n",
    "import sys\n",
    "import warnings\n",
    "warnings.filterwarnings(action='ignore',category=FutureWarning)\n",
    "warnings.filterwarnings(action='ignore',category=SettingWithCopyWarning)\n"
   ]
  },
  {
   "cell_type": "markdown",
   "metadata": {
    "collapsed": false,
    "pycharm": {
     "name": "#%% md\n"
    }
   },
   "source": [
    "# Problem 1"
   ]
  },
  {
   "cell_type": "code",
   "execution_count": 516,
   "metadata": {
    "collapsed": false,
    "pycharm": {
     "name": "#%%\n"
    }
   },
   "outputs": [],
   "source": [
    "P_t = 30.0\n",
    "r_sigma = 0.5\n",
    "r_simulate = np.random.normal(loc=0,scale=r_sigma,size=3000)\n",
    "P_t1_discrete = P_t * (1 + r_simulate)\n",
    "P_t1_log = P_t * np.exp(r_simulate)\n",
    "P_t1_classic = P_t + r_simulate\n"
   ]
  },
  {
   "cell_type": "code",
   "execution_count": 517,
   "metadata": {
    "collapsed": false,
    "pycharm": {
     "name": "#%%\n"
    }
   },
   "outputs": [
    {
     "name": "stdout",
     "output_type": "stream",
     "text": [
      "Classic & 29.993870658883242 & 0.5091489884238992 \\\\\n",
      "Discrete & 29.81611976649729 & 15.274469652716979 \\\\\n",
      "Geometric & 33.90926958618195 & 18.343563607455213 \\\\\n"
     ]
    }
   ],
   "source": [
    "print(f'Classic & {P_t1_classic.mean()} & {P_t1_classic.std()} \\\\\\\\')\n",
    "print(f'Discrete & {P_t1_discrete.mean()} & {P_t1_discrete.std()} \\\\\\\\')\n",
    "print(f'Geometric & {P_t1_log.mean()} & {P_t1_log.std()} \\\\\\\\')"
   ]
  },
  {
   "cell_type": "code",
   "execution_count": 520,
   "metadata": {
    "collapsed": false,
    "pycharm": {
     "name": "#%%\n"
    }
   },
   "outputs": [
    {
     "name": "stdout",
     "output_type": "stream",
     "text": [
      "Classic & 30.0 & 0.5 \\\\\n",
      "Discrete & 30.0 & 15.0 \\\\\n",
      "Geometric & 33.99445359200479 & 18.11701599632644 \\\\\n"
     ]
    }
   ],
   "source": [
    "print(f'Classic & {P_t} & {r_sigma} \\\\\\\\')\n",
    "print(f'Discrete & {P_t} & {P_t*r_sigma} \\\\\\\\')\n",
    "print(f'Geometric & {P_t*np.exp(r_sigma*r_sigma/2)} & {P_t*np.sqrt((np.exp(2*r_sigma*r_sigma) -np.exp(r_sigma*r_sigma)))} \\\\\\\\')"
   ]
  },
  {
   "cell_type": "markdown",
   "metadata": {
    "collapsed": false,
    "pycharm": {
     "name": "#%% md\n"
    }
   },
   "source": [
    "# Problem 2"
   ]
  },
  {
   "cell_type": "code",
   "execution_count": 7,
   "metadata": {
    "collapsed": false,
    "pycharm": {
     "name": "#%%\n"
    }
   },
   "outputs": [],
   "source": [
    "price_data = pd.read_csv(\"DailyPrices.csv\")"
   ]
  },
  {
   "cell_type": "code",
   "execution_count": 3,
   "metadata": {
    "collapsed": false,
    "pycharm": {
     "name": "#%%\n"
    }
   },
   "outputs": [],
   "source": [
    "# the return_calculate function:\n",
    "def return_calculate(df, method=\"DISCRETE\", dateColumn=\"Date\"):\n",
    "    vars = list(df.columns.values)\n",
    "    var_num = len(vars)\n",
    "    if dateColumn not in vars:\n",
    "        raise ValueError(\"dateColumn: \"+str(dateColumn)+\" not in DataFrame\")\n",
    "    vars.remove(dateColumn)\n",
    "\n",
    "\n",
    "    var_num -= 1\n",
    "    price = df[vars].values\n",
    "    price_2 = price[1:]/price[:-1]\n",
    "\n",
    "\n",
    "    if method.upper() == \"DISCRETE\":\n",
    "        price_2 = price_2 - 1\n",
    "    elif method.upper() == \"LOG\":\n",
    "        price_2 = np.log(price_2)\n",
    "    elif method.upper() == \"CLASSIC\":\n",
    "        price_2 = price[1:] - price[:-1]\n",
    "    else:\n",
    "        raise ValueError(\"method: \", method, \" must be in (\\\"LOG\\\",\\\"DISCRETE\\\")\")\n",
    "\n",
    "    dates = df[dateColumn].values[1:]\n",
    "    result =pd.concat ([pd.DataFrame({dateColumn:dates}),pd.DataFrame(columns=vars, data=price_2)],axis=1)\n",
    "    return result\n",
    "\n",
    "\n",
    "# calculate the weight terms\n",
    "def cum_weight(n, lambda_):\n",
    "    w = np.zeros(n)\n",
    "    cum_w = np.zeros(n)\n",
    "    for i in range(0, n):\n",
    "        w[n - i - 1] = (1 - lambda_) * (np.power(lambda_, i + 1))\n",
    "\n",
    "    tw = w.sum()\n",
    "    for i in range(0, n):\n",
    "        w[n - i - 1] = w[n - i - 1] / tw\n",
    "\n",
    "    return w\n",
    "\n",
    "\n",
    "# calculate cumulative variance for each (x,y) pair\n",
    "def cum_var(x, y, lambda_):\n",
    "    n = len(x)\n",
    "    w = cum_weight(n, lambda_=lambda_)\n",
    "    x_bar = np.mean(x)\n",
    "    y_bar = np.mean(y)\n",
    "\n",
    "\n",
    "    cov = np.sum(w*((x-x_bar)*(y-y_bar)))\n",
    "\n",
    "    return cov\n",
    "\n",
    "\n",
    "# calculate the covariance matrix\n",
    "def ew_cov(df, lambda_):\n",
    "    n = df.shape[1]\n",
    "    df = np.transpose(df)\n",
    "    cov_m = np.zeros((n, n))\n",
    "    for i in range(0, n):\n",
    "        for j in range(0, n):\n",
    "            cov = cum_var(df[i], df[j], lambda_=lambda_)\n",
    "            cov_m[i, j] = cov\n",
    "\n",
    "    return cov_m\n",
    "\n"
   ]
  },
  {
   "cell_type": "code",
   "execution_count": 184,
   "metadata": {
    "collapsed": false,
    "pycharm": {
     "name": "#%%\n"
    }
   },
   "outputs": [],
   "source": [
    "# calculate the returns for all stocks:\n",
    "classic_return = return_calculate(price_data,method=\"CLASSIC\", dateColumn=\"Date\")\n",
    "discrete_return = return_calculate(price_data,method=\"DISCRETE\", dateColumn=\"Date\")\n",
    "log_return = return_calculate(price_data,method=\"LOG\", dateColumn=\"Date\")"
   ]
  },
  {
   "cell_type": "code",
   "execution_count": 405,
   "metadata": {
    "collapsed": false,
    "pycharm": {
     "name": "#%%\n"
    }
   },
   "outputs": [
    {
     "data": {
      "text/html": [
       "<div>\n",
       "<style scoped>\n",
       "    .dataframe tbody tr th:only-of-type {\n",
       "        vertical-align: middle;\n",
       "    }\n",
       "\n",
       "    .dataframe tbody tr th {\n",
       "        vertical-align: top;\n",
       "    }\n",
       "\n",
       "    .dataframe thead th {\n",
       "        text-align: right;\n",
       "    }\n",
       "</style>\n",
       "<table border=\"1\" class=\"dataframe\">\n",
       "  <thead>\n",
       "    <tr style=\"text-align: right;\">\n",
       "      <th></th>\n",
       "      <th>Date</th>\n",
       "      <th>SPY</th>\n",
       "      <th>AAPL</th>\n",
       "      <th>MSFT</th>\n",
       "      <th>AMZN</th>\n",
       "      <th>TSLA</th>\n",
       "      <th>GOOGL</th>\n",
       "      <th>GOOG</th>\n",
       "      <th>META</th>\n",
       "      <th>NVDA</th>\n",
       "      <th>...</th>\n",
       "      <th>PNC</th>\n",
       "      <th>MDLZ</th>\n",
       "      <th>MO</th>\n",
       "      <th>ADI</th>\n",
       "      <th>GILD</th>\n",
       "      <th>LMT</th>\n",
       "      <th>SYK</th>\n",
       "      <th>GM</th>\n",
       "      <th>TFC</th>\n",
       "      <th>TJX</th>\n",
       "    </tr>\n",
       "  </thead>\n",
       "  <tbody>\n",
       "    <tr>\n",
       "      <th>0</th>\n",
       "      <td>2/15/2022 0:00</td>\n",
       "      <td>0.016127</td>\n",
       "      <td>0.023152</td>\n",
       "      <td>0.018542</td>\n",
       "      <td>0.008658</td>\n",
       "      <td>0.053291</td>\n",
       "      <td>0.007987</td>\n",
       "      <td>0.008319</td>\n",
       "      <td>0.015158</td>\n",
       "      <td>0.091812</td>\n",
       "      <td>...</td>\n",
       "      <td>0.012807</td>\n",
       "      <td>-0.004082</td>\n",
       "      <td>0.004592</td>\n",
       "      <td>0.052344</td>\n",
       "      <td>0.003600</td>\n",
       "      <td>-0.012275</td>\n",
       "      <td>0.033021</td>\n",
       "      <td>0.026240</td>\n",
       "      <td>0.028572</td>\n",
       "      <td>0.013237</td>\n",
       "    </tr>\n",
       "    <tr>\n",
       "      <th>1</th>\n",
       "      <td>2/16/2022 0:00</td>\n",
       "      <td>0.001121</td>\n",
       "      <td>-0.001389</td>\n",
       "      <td>-0.001167</td>\n",
       "      <td>0.010159</td>\n",
       "      <td>0.001041</td>\n",
       "      <td>0.008268</td>\n",
       "      <td>0.007784</td>\n",
       "      <td>-0.020181</td>\n",
       "      <td>0.000604</td>\n",
       "      <td>...</td>\n",
       "      <td>0.006757</td>\n",
       "      <td>-0.002429</td>\n",
       "      <td>0.005763</td>\n",
       "      <td>0.038879</td>\n",
       "      <td>0.009294</td>\n",
       "      <td>0.012244</td>\n",
       "      <td>0.003363</td>\n",
       "      <td>0.015301</td>\n",
       "      <td>-0.001389</td>\n",
       "      <td>-0.025984</td>\n",
       "    </tr>\n",
       "    <tr>\n",
       "      <th>2</th>\n",
       "      <td>2/17/2022 0:00</td>\n",
       "      <td>-0.021361</td>\n",
       "      <td>-0.021269</td>\n",
       "      <td>-0.029282</td>\n",
       "      <td>-0.021809</td>\n",
       "      <td>-0.050943</td>\n",
       "      <td>-0.037746</td>\n",
       "      <td>-0.037669</td>\n",
       "      <td>-0.040778</td>\n",
       "      <td>-0.075591</td>\n",
       "      <td>...</td>\n",
       "      <td>-0.034949</td>\n",
       "      <td>0.005326</td>\n",
       "      <td>0.015017</td>\n",
       "      <td>-0.046988</td>\n",
       "      <td>-0.009855</td>\n",
       "      <td>0.004833</td>\n",
       "      <td>-0.030857</td>\n",
       "      <td>-0.031925</td>\n",
       "      <td>-0.033380</td>\n",
       "      <td>-0.028763</td>\n",
       "    </tr>\n",
       "    <tr>\n",
       "      <th>3</th>\n",
       "      <td>2/18/2022 0:00</td>\n",
       "      <td>-0.006475</td>\n",
       "      <td>-0.009356</td>\n",
       "      <td>-0.009631</td>\n",
       "      <td>-0.013262</td>\n",
       "      <td>-0.022103</td>\n",
       "      <td>-0.016116</td>\n",
       "      <td>-0.013914</td>\n",
       "      <td>-0.007462</td>\n",
       "      <td>-0.035296</td>\n",
       "      <td>...</td>\n",
       "      <td>-0.000646</td>\n",
       "      <td>-0.000908</td>\n",
       "      <td>0.007203</td>\n",
       "      <td>-0.000436</td>\n",
       "      <td>-0.003916</td>\n",
       "      <td>-0.005942</td>\n",
       "      <td>-0.013674</td>\n",
       "      <td>-0.004506</td>\n",
       "      <td>-0.003677</td>\n",
       "      <td>0.015038</td>\n",
       "    </tr>\n",
       "    <tr>\n",
       "      <th>4</th>\n",
       "      <td>2/22/2022 0:00</td>\n",
       "      <td>-0.010732</td>\n",
       "      <td>-0.017812</td>\n",
       "      <td>-0.000729</td>\n",
       "      <td>-0.015753</td>\n",
       "      <td>-0.041366</td>\n",
       "      <td>-0.004521</td>\n",
       "      <td>-0.008163</td>\n",
       "      <td>-0.019790</td>\n",
       "      <td>-0.010659</td>\n",
       "      <td>...</td>\n",
       "      <td>0.009494</td>\n",
       "      <td>0.007121</td>\n",
       "      <td>-0.008891</td>\n",
       "      <td>0.003243</td>\n",
       "      <td>-0.001147</td>\n",
       "      <td>-0.000673</td>\n",
       "      <td>0.008342</td>\n",
       "      <td>-0.037654</td>\n",
       "      <td>-0.002246</td>\n",
       "      <td>-0.013605</td>\n",
       "    </tr>\n",
       "    <tr>\n",
       "      <th>5</th>\n",
       "      <td>2/23/2022 0:00</td>\n",
       "      <td>-0.017739</td>\n",
       "      <td>-0.025864</td>\n",
       "      <td>-0.025893</td>\n",
       "      <td>-0.035756</td>\n",
       "      <td>-0.069979</td>\n",
       "      <td>-0.017144</td>\n",
       "      <td>-0.014045</td>\n",
       "      <td>-0.017963</td>\n",
       "      <td>-0.042882</td>\n",
       "      <td>...</td>\n",
       "      <td>-0.020041</td>\n",
       "      <td>-0.002859</td>\n",
       "      <td>0.013066</td>\n",
       "      <td>-0.027287</td>\n",
       "      <td>0.006068</td>\n",
       "      <td>0.006991</td>\n",
       "      <td>0.013629</td>\n",
       "      <td>-0.008339</td>\n",
       "      <td>-0.025410</td>\n",
       "      <td>-0.042146</td>\n",
       "    </tr>\n",
       "    <tr>\n",
       "      <th>6</th>\n",
       "      <td>2/24/2022 0:00</td>\n",
       "      <td>0.015049</td>\n",
       "      <td>0.016680</td>\n",
       "      <td>0.051093</td>\n",
       "      <td>0.045095</td>\n",
       "      <td>0.048073</td>\n",
       "      <td>0.039996</td>\n",
       "      <td>0.039883</td>\n",
       "      <td>0.046107</td>\n",
       "      <td>0.060794</td>\n",
       "      <td>...</td>\n",
       "      <td>-0.017084</td>\n",
       "      <td>-0.024592</td>\n",
       "      <td>-0.045813</td>\n",
       "      <td>0.026071</td>\n",
       "      <td>-0.012062</td>\n",
       "      <td>0.017511</td>\n",
       "      <td>0.016087</td>\n",
       "      <td>-0.000647</td>\n",
       "      <td>-0.022937</td>\n",
       "      <td>0.035040</td>\n",
       "    </tr>\n",
       "    <tr>\n",
       "      <th>7</th>\n",
       "      <td>2/25/2022 0:00</td>\n",
       "      <td>0.022064</td>\n",
       "      <td>0.012966</td>\n",
       "      <td>0.009233</td>\n",
       "      <td>0.016058</td>\n",
       "      <td>0.011364</td>\n",
       "      <td>0.013328</td>\n",
       "      <td>0.013914</td>\n",
       "      <td>0.013873</td>\n",
       "      <td>0.017223</td>\n",
       "      <td>...</td>\n",
       "      <td>0.036092</td>\n",
       "      <td>0.032637</td>\n",
       "      <td>0.038531</td>\n",
       "      <td>0.014582</td>\n",
       "      <td>0.008414</td>\n",
       "      <td>0.034824</td>\n",
       "      <td>0.031393</td>\n",
       "      <td>0.023301</td>\n",
       "      <td>0.063503</td>\n",
       "      <td>0.032308</td>\n",
       "    </tr>\n",
       "    <tr>\n",
       "      <th>8</th>\n",
       "      <td>2/28/2022 0:00</td>\n",
       "      <td>-0.002558</td>\n",
       "      <td>0.001638</td>\n",
       "      <td>0.004978</td>\n",
       "      <td>-0.001466</td>\n",
       "      <td>0.074777</td>\n",
       "      <td>0.004444</td>\n",
       "      <td>0.002762</td>\n",
       "      <td>0.002613</td>\n",
       "      <td>0.009438</td>\n",
       "      <td>...</td>\n",
       "      <td>-0.016875</td>\n",
       "      <td>-0.019173</td>\n",
       "      <td>-0.003691</td>\n",
       "      <td>-0.011288</td>\n",
       "      <td>-0.011780</td>\n",
       "      <td>0.066660</td>\n",
       "      <td>-0.009180</td>\n",
       "      <td>-0.014969</td>\n",
       "      <td>-0.011910</td>\n",
       "      <td>-0.010183</td>\n",
       "    </tr>\n",
       "    <tr>\n",
       "      <th>9</th>\n",
       "      <td>3/1/2022 0:00</td>\n",
       "      <td>-0.015230</td>\n",
       "      <td>-0.011628</td>\n",
       "      <td>-0.012852</td>\n",
       "      <td>-0.015766</td>\n",
       "      <td>-0.006962</td>\n",
       "      <td>-0.007371</td>\n",
       "      <td>-0.005360</td>\n",
       "      <td>-0.035729</td>\n",
       "      <td>-0.037236</td>\n",
       "      <td>...</td>\n",
       "      <td>-0.060527</td>\n",
       "      <td>-0.017410</td>\n",
       "      <td>0.005459</td>\n",
       "      <td>-0.020837</td>\n",
       "      <td>-0.002318</td>\n",
       "      <td>0.052582</td>\n",
       "      <td>-0.002772</td>\n",
       "      <td>-0.047089</td>\n",
       "      <td>-0.065413</td>\n",
       "      <td>-0.033283</td>\n",
       "    </tr>\n",
       "  </tbody>\n",
       "</table>\n",
       "<p>10 rows × 101 columns</p>\n",
       "</div>"
      ],
      "text/plain": [
       "             Date       SPY      AAPL      MSFT      AMZN      TSLA     GOOGL  \\\n",
       "0  2/15/2022 0:00  0.016127  0.023152  0.018542  0.008658  0.053291  0.007987   \n",
       "1  2/16/2022 0:00  0.001121 -0.001389 -0.001167  0.010159  0.001041  0.008268   \n",
       "2  2/17/2022 0:00 -0.021361 -0.021269 -0.029282 -0.021809 -0.050943 -0.037746   \n",
       "3  2/18/2022 0:00 -0.006475 -0.009356 -0.009631 -0.013262 -0.022103 -0.016116   \n",
       "4  2/22/2022 0:00 -0.010732 -0.017812 -0.000729 -0.015753 -0.041366 -0.004521   \n",
       "5  2/23/2022 0:00 -0.017739 -0.025864 -0.025893 -0.035756 -0.069979 -0.017144   \n",
       "6  2/24/2022 0:00  0.015049  0.016680  0.051093  0.045095  0.048073  0.039996   \n",
       "7  2/25/2022 0:00  0.022064  0.012966  0.009233  0.016058  0.011364  0.013328   \n",
       "8  2/28/2022 0:00 -0.002558  0.001638  0.004978 -0.001466  0.074777  0.004444   \n",
       "9   3/1/2022 0:00 -0.015230 -0.011628 -0.012852 -0.015766 -0.006962 -0.007371   \n",
       "\n",
       "       GOOG      META      NVDA  ...       PNC      MDLZ        MO       ADI  \\\n",
       "0  0.008319  0.015158  0.091812  ...  0.012807 -0.004082  0.004592  0.052344   \n",
       "1  0.007784 -0.020181  0.000604  ...  0.006757 -0.002429  0.005763  0.038879   \n",
       "2 -0.037669 -0.040778 -0.075591  ... -0.034949  0.005326  0.015017 -0.046988   \n",
       "3 -0.013914 -0.007462 -0.035296  ... -0.000646 -0.000908  0.007203 -0.000436   \n",
       "4 -0.008163 -0.019790 -0.010659  ...  0.009494  0.007121 -0.008891  0.003243   \n",
       "5 -0.014045 -0.017963 -0.042882  ... -0.020041 -0.002859  0.013066 -0.027287   \n",
       "6  0.039883  0.046107  0.060794  ... -0.017084 -0.024592 -0.045813  0.026071   \n",
       "7  0.013914  0.013873  0.017223  ...  0.036092  0.032637  0.038531  0.014582   \n",
       "8  0.002762  0.002613  0.009438  ... -0.016875 -0.019173 -0.003691 -0.011288   \n",
       "9 -0.005360 -0.035729 -0.037236  ... -0.060527 -0.017410  0.005459 -0.020837   \n",
       "\n",
       "       GILD       LMT       SYK        GM       TFC       TJX  \n",
       "0  0.003600 -0.012275  0.033021  0.026240  0.028572  0.013237  \n",
       "1  0.009294  0.012244  0.003363  0.015301 -0.001389 -0.025984  \n",
       "2 -0.009855  0.004833 -0.030857 -0.031925 -0.033380 -0.028763  \n",
       "3 -0.003916 -0.005942 -0.013674 -0.004506 -0.003677  0.015038  \n",
       "4 -0.001147 -0.000673  0.008342 -0.037654 -0.002246 -0.013605  \n",
       "5  0.006068  0.006991  0.013629 -0.008339 -0.025410 -0.042146  \n",
       "6 -0.012062  0.017511  0.016087 -0.000647 -0.022937  0.035040  \n",
       "7  0.008414  0.034824  0.031393  0.023301  0.063503  0.032308  \n",
       "8 -0.011780  0.066660 -0.009180 -0.014969 -0.011910 -0.010183  \n",
       "9 -0.002318  0.052582 -0.002772 -0.047089 -0.065413 -0.033283  \n",
       "\n",
       "[10 rows x 101 columns]"
      ]
     },
     "execution_count": 405,
     "metadata": {},
     "output_type": "execute_result"
    }
   ],
   "source": [
    "discrete_return.head(10)"
   ]
  },
  {
   "cell_type": "code",
   "execution_count": 413,
   "metadata": {
    "collapsed": false,
    "pycharm": {
     "name": "#%%\n"
    }
   },
   "outputs": [],
   "source": [
    "mu = discrete_return['META'].mean()\n",
    "sigma = discrete_return['META'].std()\n",
    "meta = discrete_return['META'].values - mu"
   ]
  },
  {
   "cell_type": "code",
   "execution_count": 414,
   "metadata": {
    "collapsed": false,
    "pycharm": {
     "name": "#%%\n"
    }
   },
   "outputs": [],
   "source": [
    "weights = cum_weight(len(meta),lambda_=0.94)\n",
    "sigma_exp = np.sqrt(sum(weights * meta * meta))"
   ]
  },
  {
   "cell_type": "code",
   "execution_count": 415,
   "metadata": {
    "collapsed": false,
    "pycharm": {
     "name": "#%%\n"
    }
   },
   "outputs": [],
   "source": [
    "# since several method will use the ppf of normal distribution, use this function to calculate the results\n",
    "def cal_var_norm(sigma, mean=0,alpha=0.05):\n",
    "    return  -norm.ppf(alpha,loc=mean, scale=sigma)"
   ]
  },
  {
   "cell_type": "code",
   "execution_count": 416,
   "metadata": {
    "collapsed": false,
    "pycharm": {
     "name": "#%%\n"
    }
   },
   "outputs": [],
   "source": [
    "# normal distribution with variance/exponential weighted variance\n",
    "\n",
    "var_norm = cal_var_norm(sigma=sigma,alpha=0.05)\n"
   ]
  },
  {
   "cell_type": "code",
   "execution_count": 417,
   "metadata": {
    "collapsed": false,
    "pycharm": {
     "name": "#%%\n"
    }
   },
   "outputs": [],
   "source": [
    "var_exp = cal_var_norm(sigma=sigma_exp,alpha=0.05)\n"
   ]
  },
  {
   "cell_type": "code",
   "execution_count": 423,
   "metadata": {
    "collapsed": false,
    "pycharm": {
     "name": "#%%\n"
    }
   },
   "outputs": [],
   "source": [
    "# fit T distribution using MLE\n",
    "df, mu_t, sigma_t = t.fit(meta, method='mle')\n",
    "var_t = -t.ppf(0.05, df, mu_t,sigma_t)\n"
   ]
  },
  {
   "cell_type": "code",
   "execution_count": 419,
   "metadata": {
    "collapsed": false,
    "pycharm": {
     "name": "#%%\n"
    }
   },
   "outputs": [],
   "source": [
    "# fit AR(1)"
   ]
  },
  {
   "cell_type": "code",
   "execution_count": 420,
   "metadata": {
    "collapsed": false,
    "pycharm": {
     "name": "#%%\n"
    }
   },
   "outputs": [],
   "source": [
    "y_t = meta[1:].reshape(-1,1)\n",
    "y_t_1 = meta[:-1].reshape(-1,1)\n",
    "AR1 = LinearRegression().fit(y_t_1,y_t)\n",
    "err = y_t - AR1.predict(y_t_1)\n",
    "var_ar = cal_var_norm(sigma = err.std(), alpha= 0.05 ) + y_t[-1][0]\n"
   ]
  },
  {
   "cell_type": "code",
   "execution_count": 421,
   "metadata": {
    "collapsed": false,
    "pycharm": {
     "name": "#%%\n"
    }
   },
   "outputs": [],
   "source": [
    "# Historical simulation\n",
    "N = np.random.randint(len(meta), size=150)\n",
    "his_sim = meta[N]\n",
    "his_sim.sort()\n",
    "var_hs = np.quantile(his_sim, 0.05)\n"
   ]
  },
  {
   "cell_type": "code",
   "execution_count": 424,
   "metadata": {
    "collapsed": false,
    "pycharm": {
     "name": "#%%\n"
    }
   },
   "outputs": [
    {
     "data": {
      "text/plain": [
       "'6.560156967533286 % & 9.138526093846897 & 5.757964975153305 & 3.5558174815379666 & -5.121255023873685'"
      ]
     },
     "execution_count": 424,
     "metadata": {},
     "output_type": "execute_result"
    }
   ],
   "source": [
    "f'{var_norm*100} % & {var_exp*100} & {var_t*100} & {var_ar*100} & {var_hs*100}'"
   ]
  },
  {
   "cell_type": "markdown",
   "metadata": {
    "collapsed": false,
    "pycharm": {
     "name": "#%% md\n"
    }
   },
   "source": [
    "# Problem 3"
   ]
  },
  {
   "cell_type": "code",
   "execution_count": 8,
   "metadata": {
    "collapsed": false,
    "pycharm": {
     "name": "#%%\n"
    }
   },
   "outputs": [],
   "source": [
    "def cal_port(portfolio, prices, dateColumn=\"Date\"):\n",
    "    stocks = portfolio.loc[:,'Stock'].values\n",
    "    prices_new = prices.loc[:,stocks]\n",
    "    portfolio.loc[:,'price'] = [prices_new.loc[len(prices_new)-1, stock] for stock in stocks]\n",
    "    value = (portfolio.Holding * portfolio.price).sum()\n",
    "    prices_new.loc[:,dateColumn] = prices.loc[:,dateColumn].values\n",
    "    return value, prices_new,portfolio\n"
   ]
  },
  {
   "cell_type": "code",
   "execution_count": 9,
   "metadata": {
    "collapsed": false,
    "pycharm": {
     "name": "#%%\n"
    }
   },
   "outputs": [],
   "source": [
    "# calculate VaR using Pearson Covariance\n",
    "def cal_port_var(port, dis=\"normal\", simN=1000):\n",
    "    value, prices, port = cal_port(port, price_data)\n",
    "    return_dis = np.array(return_calculate(prices).drop('Date',axis=1))\n",
    "    cov = np.cov(return_dis.T)\n",
    "\n",
    "    if dis == \"normal\":\n",
    "        sim_return = np.random.multivariate_normal(mean=np.zeros(len(cov)),cov=cov, size=simN)\n",
    "    elif dis==\"T\":\n",
    "        mle_t = lambda df: -sum(np.log(multivariate_t.pdf(return_dis,return_dis.mean(axis=0),cov, df=df))) if df>0 else -sum(np.log(multivariate_t.pdf(return_dis,return_dis.mean(axis=0),cov, df=df +1)))\n",
    "        bnds = ((0, None),)\n",
    "        res_t = minimize(mle_t, x0=1,bounds=bnds)\n",
    "\n",
    "        df = res_t['x'][0]\n",
    "\n",
    "        sim_return = multivariate_t.rvs(return_dis.mean(axis=0), cov,df=df, size=simN)\n",
    "    var_dollor = -np.quantile(((sim_return)* port.loc[:,'price'].values * port.loc[:,'Holding'].values).sum(axis=1),0.05)\n",
    "    var_pc = var_dollor/value * 100\n",
    "    return var_dollor,var_pc"
   ]
  },
  {
   "cell_type": "code",
   "execution_count": 10,
   "metadata": {
    "collapsed": false,
    "pycharm": {
     "name": "#%%\n"
    }
   },
   "outputs": [
    {
     "name": "stdout",
     "output_type": "stream",
     "text": [
      "7860.7047 & 9422.3136 \\\\\n",
      "2.6207\\% & 3.1413\\%  \\\\\n",
      "6674.893 & 7552.2562 \\\\\n",
      "2.2674\\% & 2.5654\\%  \\\\\n",
      "5715.5477 & 6177.1491 \\\\\n",
      "2.1165\\% & 2.2875\\%  \\\\\n",
      "20420.5945 & 22213.2157 \\\\\n",
      "2.3625\\% & 2.5698\\%  \\\\\n"
     ]
    }
   ],
   "source": [
    "portfolio = pd.read_csv(\"portfolio.csv\")\n",
    "ports = [portfolio.loc[portfolio.Portfolio=='A'], portfolio.loc[portfolio.Portfolio=='B'],portfolio.loc[portfolio.Portfolio=='C'],portfolio]\n",
    "for port in ports:\n",
    "    var_dollar, var_pc = cal_port_var(port)\n",
    "    var_dollar_t, var_pc_t = cal_port_var(port, dis=\"T\")\n",
    "    print(f'{round(var_dollar,4)} & { round(var_dollar_t,4)} \\\\\\\\')\n",
    "    print(f'{round(var_pc,4)}\\\\% & { round(var_pc_t,4)}\\\\%  \\\\\\\\')\n"
   ]
  },
  {
   "cell_type": "code",
   "execution_count": 11,
   "metadata": {
    "collapsed": false,
    "pycharm": {
     "name": "#%%\n"
    }
   },
   "outputs": [],
   "source": [
    "def cal_port_var_ew(port, dis=\"normal\", simN=1500):\n",
    "    # calculate VaR using EW Covariance\n",
    "    value, prices, port = cal_port(port, price_data)\n",
    "    return_dis = return_calculate(prices)\n",
    "\n",
    "    cov = ew_cov(return_dis.values[:,1:], lambda_=0.94)\n",
    "    print(cov)\n",
    "    if dis == \"normal\":\n",
    "        sim_return = np.random.multivariate_normal(mean=np.zeros(len(cov)),cov=cov, size=simN)\n",
    "    elif dis==\"T\":\n",
    "\n",
    "        mle_t = lambda df: -sum(np.log(multivariate_t.pdf(return_dis.values[:,1:],return_dis.mean(),cov, df=df))) if df>0 else -sum(np.log(multivariate_t.pdf(return_dis.values[:,1:],return_dis.mean(), cov, df=df +1)))\n",
    "        bnds = ((0, None),)\n",
    "        res_t = minimize(mle_t, x0=1,bounds=bnds)\n",
    "        df = res_t['x'][0]\n",
    "        sim_return = multivariate_t.rvs(return_dis.drop(\"Date\",axis=1).mean().values,cov,df=df, size=simN)\n",
    "\n",
    "    var_dollar = -np.quantile(((sim_return)* port.loc[:,'price'].values * port.loc[:,'Holding'].values).sum(axis=1),0.05)\n",
    "    var_pc = var_dollar/value * 100\n",
    "    return var_dollar,var_pc\n"
   ]
  },
  {
   "cell_type": "code",
   "execution_count": 13,
   "metadata": {
    "collapsed": false,
    "pycharm": {
     "name": "#%%\n"
    }
   },
   "outputs": [
    {
     "name": "stdout",
     "output_type": "stream",
     "text": [
      "[[ 3.52996482e-04  4.81523987e-04  9.92675354e-05 ...  2.16268424e-04\n",
      "   2.06184678e-04 -6.50908573e-06]\n",
      " [ 4.81523987e-04  2.45482964e-03  8.55888835e-05 ...  3.46417057e-04\n",
      "   2.55803105e-04 -3.84986647e-06]\n",
      " [ 9.92675354e-05  8.55888835e-05  1.34448736e-04 ...  8.09916467e-05\n",
      "   5.82375709e-05  3.84275902e-05]\n",
      " ...\n",
      " [ 2.16268424e-04  3.46417057e-04  8.09916467e-05 ...  2.63937654e-04\n",
      "   2.58343565e-04  1.08788862e-05]\n",
      " [ 2.06184678e-04  2.55803105e-04  5.82375709e-05 ...  2.58343565e-04\n",
      "   6.61528422e-04  3.83383910e-05]\n",
      " [-6.50908573e-06 -3.84986647e-06  3.84275902e-05 ...  1.08788862e-05\n",
      "   3.83383910e-05  1.26941238e-04]]\n",
      "[[ 3.52996482e-04  4.81523987e-04  9.92675354e-05 ...  2.16268424e-04\n",
      "   2.06184678e-04 -6.50908573e-06]\n",
      " [ 4.81523987e-04  2.45482964e-03  8.55888835e-05 ...  3.46417057e-04\n",
      "   2.55803105e-04 -3.84986647e-06]\n",
      " [ 9.92675354e-05  8.55888835e-05  1.34448736e-04 ...  8.09916467e-05\n",
      "   5.82375709e-05  3.84275902e-05]\n",
      " ...\n",
      " [ 2.16268424e-04  3.46417057e-04  8.09916467e-05 ...  2.63937654e-04\n",
      "   2.58343565e-04  1.08788862e-05]\n",
      " [ 2.06184678e-04  2.55803105e-04  5.82375709e-05 ...  2.58343565e-04\n",
      "   6.61528422e-04  3.83383910e-05]\n",
      " [-6.50908573e-06 -3.84986647e-06  3.84275902e-05 ...  1.08788862e-05\n",
      "   3.83383910e-05  1.26941238e-04]]\n",
      "5774.464714128764 & 10451.159480433294  \\\\\n",
      "1.925142049299039\\% & 3.484299857350168\\%  \\\\\n",
      "[[ 4.97465537e-04  5.72421607e-04  6.05598188e-04 ...  4.14271009e-05\n",
      "  -1.01441963e-04  3.07984284e-04]\n",
      " [ 5.72421607e-04  1.17711422e-03  6.51153693e-04 ...  4.71907148e-05\n",
      "  -1.38394162e-04  3.61696648e-04]\n",
      " [ 6.05598188e-04  6.51153693e-04  1.36972930e-03 ...  1.02990029e-04\n",
      "  -9.99336480e-05  5.13808237e-04]\n",
      " ...\n",
      " [ 4.14271009e-05  4.71907148e-05  1.02990029e-04 ...  1.17667302e-04\n",
      "   4.66347522e-05  6.82180374e-05]\n",
      " [-1.01441963e-04 -1.38394162e-04 -9.99336480e-05 ...  4.66347522e-05\n",
      "   2.31936107e-04 -3.24262670e-05]\n",
      " [ 3.07984284e-04  3.61696648e-04  5.13808237e-04 ...  6.82180374e-05\n",
      "  -3.24262670e-05  7.84934935e-04]]\n",
      "[[ 4.97465537e-04  5.72421607e-04  6.05598188e-04 ...  4.14271009e-05\n",
      "  -1.01441963e-04  3.07984284e-04]\n",
      " [ 5.72421607e-04  1.17711422e-03  6.51153693e-04 ...  4.71907148e-05\n",
      "  -1.38394162e-04  3.61696648e-04]\n",
      " [ 6.05598188e-04  6.51153693e-04  1.36972930e-03 ...  1.02990029e-04\n",
      "  -9.99336480e-05  5.13808237e-04]\n",
      " ...\n",
      " [ 4.14271009e-05  4.71907148e-05  1.02990029e-04 ...  1.17667302e-04\n",
      "   4.66347522e-05  6.82180374e-05]\n",
      " [-1.01441963e-04 -1.38394162e-04 -9.99336480e-05 ...  4.66347522e-05\n",
      "   2.31936107e-04 -3.24262670e-05]\n",
      " [ 3.07984284e-04  3.61696648e-04  5.13808237e-04 ...  6.82180374e-05\n",
      "  -3.24262670e-05  7.84934935e-04]]\n",
      "4313.8471728125205 & 7191.227393134605  \\\\\n",
      "1.4653730710225654\\% & 2.442791908789122\\%  \\\\\n",
      "[[ 1.03321114e-03  7.91131004e-04  1.70899194e-04 ...  4.02014427e-05\n",
      "  -6.09158119e-05  2.28719633e-04]\n",
      " [ 7.91131004e-04  1.18352441e-03  2.11260353e-04 ...  1.49189387e-05\n",
      "  -7.17344466e-05  3.15978163e-04]\n",
      " [ 1.70899194e-04  2.11260353e-04  1.04536233e-04 ...  2.14591143e-05\n",
      "   2.39046709e-05  9.35268178e-05]\n",
      " ...\n",
      " [ 4.02014427e-05  1.49189387e-05  2.14591143e-05 ...  2.04860818e-04\n",
      "   1.74688462e-05  5.82793733e-05]\n",
      " [-6.09158119e-05 -7.17344466e-05  2.39046709e-05 ...  1.74688462e-05\n",
      "   1.16427611e-04 -2.56012424e-05]\n",
      " [ 2.28719633e-04  3.15978163e-04  9.35268178e-05 ...  5.82793733e-05\n",
      "  -2.56012424e-05  2.50910983e-04]]\n",
      "[[ 1.03321114e-03  7.91131004e-04  1.70899194e-04 ...  4.02014427e-05\n",
      "  -6.09158119e-05  2.28719633e-04]\n",
      " [ 7.91131004e-04  1.18352441e-03  2.11260353e-04 ...  1.49189387e-05\n",
      "  -7.17344466e-05  3.15978163e-04]\n",
      " [ 1.70899194e-04  2.11260353e-04  1.04536233e-04 ...  2.14591143e-05\n",
      "   2.39046709e-05  9.35268178e-05]\n",
      " ...\n",
      " [ 4.02014427e-05  1.49189387e-05  2.14591143e-05 ...  2.04860818e-04\n",
      "   1.74688462e-05  5.82793733e-05]\n",
      " [-6.09158119e-05 -7.17344466e-05  2.39046709e-05 ...  1.74688462e-05\n",
      "   1.16427611e-04 -2.56012424e-05]\n",
      " [ 2.28719633e-04  3.15978163e-04  9.35268178e-05 ...  5.82793733e-05\n",
      "  -2.56012424e-05  2.50910983e-04]]\n",
      "3822.847659376009 & 6377.685337059187  \\\\\n",
      "1.4156449374736777\\% & 2.361731035257012\\%  \\\\\n",
      "[[ 3.52996482e-04  4.81523987e-04  9.92675354e-05 ...  7.35126439e-06\n",
      "  -1.52463599e-05  1.51299428e-04]\n",
      " [ 4.81523987e-04  2.45482964e-03  8.55888835e-05 ... -6.94358975e-07\n",
      "   5.13093043e-05  1.13782780e-04]\n",
      " [ 9.92675354e-05  8.55888835e-05  1.34448736e-04 ...  2.01628930e-05\n",
      "   2.36476106e-05  8.81449450e-05]\n",
      " ...\n",
      " [ 7.35126439e-06 -6.94358975e-07  2.01628930e-05 ...  2.04860818e-04\n",
      "   1.74688462e-05  5.82793733e-05]\n",
      " [-1.52463599e-05  5.13093043e-05  2.36476106e-05 ...  1.74688462e-05\n",
      "   1.16427611e-04 -2.56012424e-05]\n",
      " [ 1.51299428e-04  1.13782780e-04  8.81449450e-05 ...  5.82793733e-05\n",
      "  -2.56012424e-05  2.50910983e-04]]\n",
      "[[ 3.52996482e-04  4.81523987e-04  9.92675354e-05 ...  7.35126439e-06\n",
      "  -1.52463599e-05  1.51299428e-04]\n",
      " [ 4.81523987e-04  2.45482964e-03  8.55888835e-05 ... -6.94358975e-07\n",
      "   5.13093043e-05  1.13782780e-04]\n",
      " [ 9.92675354e-05  8.55888835e-05  1.34448736e-04 ...  2.01628930e-05\n",
      "   2.36476106e-05  8.81449450e-05]\n",
      " ...\n",
      " [ 7.35126439e-06 -6.94358975e-07  2.01628930e-05 ...  2.04860818e-04\n",
      "   1.74688462e-05  5.82793733e-05]\n",
      " [-1.52463599e-05  5.13093043e-05  2.36476106e-05 ...  1.74688462e-05\n",
      "   1.16427611e-04 -2.56012424e-05]\n",
      " [ 1.51299428e-04  1.13782780e-04  8.81449450e-05 ...  5.82793733e-05\n",
      "  -2.56012424e-05  2.50910983e-04]]\n",
      "14357.37701500102 & 285496.4503135073  \\\\\n",
      "1.6610058371695486\\% & 33.029102040466825\\%  \\\\\n"
     ]
    }
   ],
   "source": [
    "for port in ports:\n",
    "    var_dollar, var_pc = cal_port_var_ew(port)\n",
    "    var_dollar_t, var_pc_t = cal_port_var_ew(port, dis=\"T\")\n",
    "    print(f'{var_dollar} & { var_dollar_t}  \\\\\\\\')\n",
    "    print(f'{var_pc}\\\\% & { var_pc_t}\\\\%  \\\\\\\\')"
   ]
  },
  {
   "cell_type": "code",
   "execution_count": null,
   "metadata": {
    "collapsed": false,
    "pycharm": {
     "name": "#%%\n"
    }
   },
   "outputs": [],
   "source": []
  },
  {
   "cell_type": "markdown",
   "metadata": {
    "collapsed": false,
    "pycharm": {
     "name": "#%% md\n"
    }
   },
   "source": []
  }
 ],
 "metadata": {
  "kernelspec": {
   "display_name": "Python 3",
   "language": "python",
   "name": "python3"
  },
  "language_info": {
   "codemirror_mode": {
    "name": "ipython",
    "version": 3
   },
   "file_extension": ".py",
   "mimetype": "text/x-python",
   "name": "python",
   "nbconvert_exporter": "python",
   "pygments_lexer": "ipython3",
   "version": "3.7.2"
  },
  "vscode": {
   "interpreter": {
    "hash": "e774977668b7c0ae8309835a5187aa7fbf7669e7d0bb59755bc63e573643edcd"
   }
  }
 },
 "nbformat": 4,
 "nbformat_minor": 0
}
